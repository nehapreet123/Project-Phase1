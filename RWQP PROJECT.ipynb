{
 "cells": [
  {
   "cell_type": "code",
   "execution_count": null,
   "id": "b22eb0d5",
   "metadata": {},
   "outputs": [],
   "source": []
  },
  {
   "cell_type": "code",
   "execution_count": 25,
   "id": "0b312979",
   "metadata": {},
   "outputs": [],
   "source": [
    "import pandas as pd\n",
    "import numpy as np\n",
    "import seaborn as sns\n",
    "import matplotlib.pyplot as plt\n",
    "import warnings\n",
    "warnings.filterwarnings('ignore')\n",
    "import time\n",
    "import random"
   ]
  },
  {
   "cell_type": "markdown",
   "id": "26e8100b",
   "metadata": {},
   "source": [
    "# Red Wine Quality Prediction Project\n",
    "Project Description\n",
    "The dataset is related to red and white variants of the Portuguese \"Vinho Verde\" wine. Due to privacy and logistic issues, only physicochemical (inputs) and sensory (the output) variables are available (e.g. there is no data about grape types, wine brand, wine selling price, etc.).\n",
    "\n",
    "This dataset can be viewed as classification task. The classes are ordered and not balanced (e.g. there are many more normal wines than excellent or poor ones). Also, we are not sure if all input variables are relevant. So it could be interesting to test feature selection methods.\n"
   ]
  },
  {
   "cell_type": "markdown",
   "id": "d0789169",
   "metadata": {},
   "source": [
    "Attribute Information\n",
    "Input variables (based on physicochemical tests):\n",
    "1 - fixed acidity\n",
    "2 - volatile acidity\n",
    "3 - citric acid\n",
    "4 - residual sugar\n",
    "5 - chlorides\n",
    "6 - free sulfur dioxide\n",
    "7 - total sulfur dioxide\n",
    "8 - density\n",
    "9 - pH\n",
    "10 - sulphates\n",
    "11 - alcohol\n",
    "Output variable (based on sensory data):\n",
    "12 - quality (score between 0 and 10)\n",
    "What might be an interesting thing to do, is to set an arbitrary cutoff for your dependent variable (wine quality) at e.g. 7 or higher getting classified as 'good/1' and the remainder as 'not good/0'.\n",
    "This allows you to practice with hyper parameter tuning on e.g. decision tree algorithms looking at the ROC curve and the AUC value.\n",
    "You need to build a classification model. \n",
    "Inspiration\n",
    "Use machine learning to determine which physiochemical properties make a wine 'good'!\n"
   ]
  },
  {
   "cell_type": "markdown",
   "id": "f62440f7",
   "metadata": {},
   "source": [
    "# IMPORTING DATASET"
   ]
  },
  {
   "cell_type": "code",
   "execution_count": 26,
   "id": "d4aec2b5",
   "metadata": {},
   "outputs": [],
   "source": [
    "df=pd.read_csv('https://raw.githubusercontent.com/FlipRoboTechnologies/ML-Datasets/main/Red%20Wine/winequality-red.csv')\n",
    "df"
   ]
  },
  {
   "cell_type": "code",
   "execution_count": 27,
   "id": "fa35f749",
   "metadata": {},
   "outputs": [],
   "source": [
    "df.sample(5)"
   ]
  },
  {
   "cell_type": "code",
   "execution_count": 28,
   "id": "f8f709b2",
   "metadata": {},
   "outputs": [],
   "source": [
    "df['quality'].value_counts()"
   ]
  },
  {
   "cell_type": "code",
   "execution_count": 29,
   "id": "3d46b714",
   "metadata": {},
   "outputs": [],
   "source": [
    "df.head()"
   ]
  },
  {
   "cell_type": "code",
   "execution_count": 30,
   "id": "ee37a883",
   "metadata": {},
   "outputs": [],
   "source": [
    "df.tail()"
   ]
  },
  {
   "cell_type": "code",
   "execution_count": 31,
   "id": "0efba38b",
   "metadata": {},
   "outputs": [],
   "source": [
    "#Making binary classificaion for the response variable.\n",
    "from sklearn.preprocessing import LabelEncoder\n",
    "bins = (2, 6.5, 8)\n",
    "group_names = ['bad', 'good']\n",
    "df['quality'] = pd.cut(df['quality'], bins = bins, labels = group_names)\n",
    "label_quality = LabelEncoder()\n",
    "df['quality'] = label_quality.fit_transform(df['quality'])\n",
    "df['quality'].value_counts()"
   ]
  },
  {
   "cell_type": "code",
   "execution_count": 32,
   "id": "b90c8b00",
   "metadata": {},
   "outputs": [],
   "source": [
    "#Ploting the responce variable\n",
    "sns.countplot(df['quality'])"
   ]
  },
  {
   "cell_type": "code",
   "execution_count": 33,
   "id": "fefde80e",
   "metadata": {},
   "outputs": [],
   "source": [
    "df.columns"
   ]
  },
  {
   "cell_type": "code",
   "execution_count": null,
   "id": "327fb7ed",
   "metadata": {},
   "outputs": [],
   "source": [
    "sns.pairplot(df)"
   ]
  },
  {
   "cell_type": "code",
   "execution_count": null,
   "id": "cfc08434",
   "metadata": {},
   "outputs": [],
   "source": [
    "df[df.columns[:11]].describe()"
   ]
  },
  {
   "cell_type": "code",
   "execution_count": null,
   "id": "70b6eff6",
   "metadata": {},
   "outputs": [],
   "source": [
    "#ploting histograms\n",
    "fig = plt.figure(figsize=(15, 12))\n",
    "plt.suptitle('Histogram of numerical columns', fontsize=20)\n",
    "for i in range(df.shape[1]):\n",
    "    plt.subplot(6, 3, i + 1)\n",
    "    f = plt.gca()\n",
    "    f.set_title(df.columns.values[i])\n",
    "    \n",
    "    vals = np.size(df.iloc[:, 1].unique())\n",
    "    if vals >=100:\n",
    "        vals =100\n",
    "        \n",
    "    plt.hist(df.iloc[:, i], bins=vals, color='#3F5D7D')\n",
    "plt.tight_layout(rect=[0, 0.03, 1, 0.95])"
   ]
  },
  {
   "cell_type": "code",
   "execution_count": null,
   "id": "6c60ef3a",
   "metadata": {},
   "outputs": [],
   "source": [
    "df.isna().any()"
   ]
  },
  {
   "cell_type": "code",
   "execution_count": null,
   "id": "e998ed9b",
   "metadata": {},
   "outputs": [],
   "source": [
    "#Coreeletion withb quality with respect to attributes\n",
    "df.corrwith(df.quality).plot.bar(figsize = (20, 15), title =\"Correlation with quality\", fontsize = 15, rot = 45, grid = True, facecolor = \"Orange\")"
   ]
  },
  {
   "cell_type": "code",
   "execution_count": null,
   "id": "6ef04099",
   "metadata": {},
   "outputs": [],
   "source": [
    "#Correlation matrix\n",
    "sns.set(style = \"white\")\n",
    "\n",
    "#Computing the correlation matrix\n",
    "corr = df.corr()"
   ]
  },
  {
   "cell_type": "code",
   "execution_count": null,
   "id": "83cd6fbf",
   "metadata": {},
   "outputs": [],
   "source": [
    "corr.head()"
   ]
  },
  {
   "cell_type": "code",
   "execution_count": null,
   "id": "10730b71",
   "metadata": {},
   "outputs": [],
   "source": [
    "#generating a mask for upper triangle\n",
    "mask = np.zeros_like(corr, dtype=np.bool_)\n",
    "mask[np.triu_indices_from(mask)] = True\n",
    "\n",
    "#set the matplotlib fig\n",
    "f, ax = plt.subplots(figsize=(20, 16))\n",
    "\n",
    "#generate a custum diversion colormap\n",
    "cmap = sns.diverging_palette(220, 10, as_cmap=True)\n",
    "\n",
    "#Draw the heatmap with the mask and correct aspect ratio\n",
    "sns.heatmap(corr, mask=mask, cmap=cmap, vmax=.3, center=0,\n",
    "           square=True, linewidths=.5, cbar_kws={\"shrink\": .5})"
   ]
  },
  {
   "cell_type": "markdown",
   "id": "5225d630",
   "metadata": {},
   "source": [
    "# Feature Engineering"
   ]
  },
  {
   "cell_type": "code",
   "execution_count": null,
   "id": "6f4208e9",
   "metadata": {},
   "outputs": [],
   "source": [
    "#dropping quality column\n",
    "X = df.drop('quality',axis=1)\n",
    "y=df['quality']"
   ]
  },
  {
   "cell_type": "code",
   "execution_count": null,
   "id": "72109993",
   "metadata": {},
   "outputs": [],
   "source": [
    "X.head()"
   ]
  },
  {
   "cell_type": "code",
   "execution_count": null,
   "id": "ad146391",
   "metadata": {},
   "outputs": [],
   "source": [
    "y.head()"
   ]
  },
  {
   "cell_type": "code",
   "execution_count": null,
   "id": "86f8f529",
   "metadata": {},
   "outputs": [],
   "source": [
    "df.columns[:11]"
   ]
  },
  {
   "cell_type": "code",
   "execution_count": null,
   "id": "05e77efc",
   "metadata": {},
   "outputs": [],
   "source": [
    "features_label = df.columns[:11]"
   ]
  },
  {
   "cell_type": "code",
   "execution_count": null,
   "id": "fb6fca17",
   "metadata": {},
   "outputs": [],
   "source": [
    "#Fitting Random Forest Classification to the Training set\n",
    "from sklearn.ensemble import RandomForestClassifier\n",
    "classifier = RandomForestClassifier(n_estimators = 200, criterion = 'entropy', random_state = 0)\n",
    "classifier.fit(X, y)\n",
    "importances = classifier.feature_importances_\n",
    "indices = np. argsort(importances)[::-1]\n",
    "for i in range(X.shape[1]):\n",
    "    print (\"%2d) %-*s %f\" % (i + 1, 30, features_label[i],importances[indices[i]]))"
   ]
  },
  {
   "cell_type": "code",
   "execution_count": null,
   "id": "ac2fcf45",
   "metadata": {},
   "outputs": [],
   "source": [
    "plt.title('feature_Importances')\n",
    "plt.bar(range(X.shape[1]),importances[indices], color=\"Darkgreen\", align=\"center\")\n",
    "plt.xticks(range(X.shape[1]),features_label, rotation=90)\n",
    "plt.xlim([-1, X.shape[1]])\n",
    "plt.show()"
   ]
  },
  {
   "cell_type": "code",
   "execution_count": null,
   "id": "f46e3b8a",
   "metadata": {},
   "outputs": [],
   "source": []
  },
  {
   "cell_type": "code",
   "execution_count": null,
   "id": "40405813",
   "metadata": {},
   "outputs": [],
   "source": []
  },
  {
   "cell_type": "code",
   "execution_count": null,
   "id": "b55e73a2",
   "metadata": {},
   "outputs": [],
   "source": []
  },
  {
   "cell_type": "code",
   "execution_count": null,
   "id": "fc1016ef",
   "metadata": {},
   "outputs": [],
   "source": []
  }
 ],
 "metadata": {
  "kernelspec": {
   "display_name": "Python 3 (ipykernel)",
   "language": "python",
   "name": "python3"
  },
  "language_info": {
   "codemirror_mode": {
    "name": "ipython",
    "version": 3
   },
   "file_extension": ".py",
   "mimetype": "text/x-python",
   "name": "python",
   "nbconvert_exporter": "python",
   "pygments_lexer": "ipython3",
   "version": "3.11.3"
  }
 },
 "nbformat": 4,
 "nbformat_minor": 5
}
